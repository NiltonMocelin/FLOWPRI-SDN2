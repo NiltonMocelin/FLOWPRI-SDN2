{
 "cells": [
  {
   "cell_type": "markdown",
   "id": "36e81bb8",
   "metadata": {},
   "source": [
    "# Descrição experimentos usando NETNS (isolamento de interfaces usando ambientes de rede virtualizados - namespaces)\n",
    "\n",
    "- Objetivo configurar um script para automatizar tudo.\n",
    "\n",
    "- Ref ( muito bom inclusive ):  https://www.youtube.com/watch?v=jhk7y7mYI6s&ab_channel=TechUpskill\n",
    "\n",
    "# Criar um namespace para cada domínio.\n",
    "\n",
    "<!-- sudo ip link add <nome-interface> type dummy # isso nao funcionou direito, infelizmente -->\n",
    "\n",
    "* listar namespaces ativos:\n",
    "    `sudo ip netns list`\n",
    "\n",
    "* Criar namespace:\n",
    "    `sudo ip netns add VRF1`    \n",
    "\n",
    "* Criando interfaces para utilizar com os namespaces\n",
    "    `sudo ip link add veth1 type veth peer name veth2`\n",
    "\n",
    "\n",
    "* Mover interface para namespace:\n",
    "    `sudo ip link set veth1 netns VRF1`\n",
    "\n",
    "\n",
    "* Executar comando a partir da namespace (ex: ping, /bin/bash, ifconfig):\n",
    "    `sudo ip netns exec VRF1 <comando>`\n",
    "\n",
    "* Subir as interfaces dentro dos namespaces:\n",
    "    `sudo ip netns exec VRF1 ifconfig veth1 up`\n",
    "\n",
    "* Criar ovs bridge:\n",
    "    `sudo ovs-vsctl add-br switch1`\n",
    "\n",
    "* Adicionar as interfaces criadas:\n",
    "    `sudo ovs-vsctl add-port switch1 veth2`\n",
    "\n",
    "* Se não conseguir ver as interfaces, ver com:\n",
    "    `sudo ip link`\n",
    "\n",
    "* Associar ips para as interfaces:\n",
    "    `sudo ifconfig veth1 10.0.0.5/24`\n",
    "\n",
    "* Rodar terminal a partir do namespace:\n",
    "    `sudo ip netns exec VRF1 /bin/bash`\n",
    "\n",
    "* Ou melhor ainda (igual no mininet):\n",
    "    `sudo ip netns exec VRF1 xterm`\n",
    "\n",
    "* Ver largura de banda do enlace (interface):\n",
    "    `tc qdisk "
   ]
  }
 ],
 "metadata": {
  "language_info": {
   "name": "python"
  }
 },
 "nbformat": 4,
 "nbformat_minor": 5
}
