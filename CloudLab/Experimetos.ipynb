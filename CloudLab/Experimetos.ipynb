{
 "cells": [
  {
   "cell_type": "markdown",
   "metadata": {},
   "source": [
    "# How to Experimentos:\n",
    "\n",
    "- Supondo ambiente CloudLab.us\n",
    "\n",
    "- Criar a topologia (pode ser utilizando o profile.py - se estiver implementado)\n",
    "\n",
    "- No cloudlab os ips de cada host são pré-configurados na topologia.\n",
    "\n",
    "- Nos hosts switch ovs -> adaptar o script ovs_host/script.sh , para as interfaces existentes no host para a topologia definida. E Então, executar o script (demora um pouco, pois ocorre compilação)\n",
    "\n",
    "- Com isso, os \"switches\" (que são hosts convencionais executando o processo OVS) estão prontos.\n",
    "\n",
    "- Dessa forma, sabemos as portas e seus endereços, que dizem qual porta alcança o quê.\n",
    "\n",
    "- Configurar o arquivo cfg para cada domínio, configurando os switches e rotas (fazemos de modo estático por enquanto) e copiar para FLOWPRI-SDN2/ (pois é de onde o controlador carrega o arquivo)\n",
    "\n",
    "- os arquivos cfg: observar os ips das interfaces dos switches e quem eles alcançam, para escrever as rotas. Também se atentar ao ip do controlador, o id do switch configurado...\n",
    "\n",
    "- Assim, os nós devem ser capazes de alcançar um ao outro utilizando o controlador (sh run_flowpri2.sh)\n",
    "\n",
    "<hr/>\n",
    "\n",
    "- \n",
    "\n",
    "\n",
    "\n",
    "\n"
   ]
  }
 ],
 "metadata": {
  "language_info": {
   "name": "python"
  }
 },
 "nbformat": 4,
 "nbformat_minor": 2
}
