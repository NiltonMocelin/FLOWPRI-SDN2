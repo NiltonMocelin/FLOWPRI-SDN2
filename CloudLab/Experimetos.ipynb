{
 "cells": [
  {
   "cell_type": "markdown",
   "metadata": {},
   "source": [
    "# How to Experimentos:\n",
    "\n",
    "- Supondo ambiente CloudLab.us\n",
    "\n",
    "- Criar a topologia (pode ser utilizando o profile.py - se estiver implementado)\n",
    "\n",
    "- cada host executa automaticamente o script (caso não tenha executado, fazer manualmente)\n",
    "` sudo apt-get update -y && wget -o- https://github.com/NiltonMocelin/FLOWPRI-SDN2/archive/refs/heads/main.zip && unzip main.zip && mv FLOWPRI-SDN2-main FLOWPRI-SDN2 && cd FLOWPRI-SDN2 && sh requirements_controller_host_switch.sh`\n",
    "\n",
    "- Assim, todos os requisitos são instalados nos hosts.\n",
    "\n",
    "- prox passo, ajustar a configuração inicial do controlador e dos switches para cada domínio.\n",
    "\n",
    "<hr/>\n",
    "\n",
    "- No cloudlab os ips de cada host são pré-configurados na topologia.\n",
    "\n",
    "- Nos hosts switch ovs -> adaptar o script ovs_host/script.sh , para as interfaces existentes no host para a topologia definida. E Então, executar o script (demora um pouco, pois ocorre compilação)\n",
    "\n",
    "- Com isso, os \"switches\" (que são hosts convencionais executando o processo OVS) estão prontos.\n",
    "\n",
    "- Dessa forma, sabemos as portas e seus endereços, que dizem qual porta alcança o quê.\n",
    "\n",
    "- Configurar o arquivo cfg para cada domínio, configurando os switches e rotas (fazemos de modo estático por enquanto) e copiar para FLOWPRI-SDN2/ (pois é de onde o controlador carrega o arquivo)\n",
    "\n",
    "- os arquivos cfg: observar os ips das interfaces dos switches e quem eles alcançam, para escrever as rotas. Também se atentar ao ip do controlador, o id do switch configurado...\n",
    "\n",
    "- Assim, os nós devem ser capazes de alcançar um ao outro utilizando o controlador (sh run_flowpri2.sh)\n",
    "\n",
    "- Cada vez que for realizar um experimento, precisa preencher o cfg do dominio corretamente, pois o nome das interfaces pode alterar (com o profile python acho que poderia fixar, mas não dará tempo para isso)\n",
    "\n",
    "<hr/>\n",
    "\n",
    "#### Setup host switch:\n",
    "\n",
    "- rodar o script em CloudLab/ovs_host\n",
    "\n",
    "- passar os ips para a interface \"switch\" criada: ip addr del <ip/mask> dev <interface> e ip addr add <ip/mask> dev <interface>\n",
    "\n",
    "- modificar as rotas para que os pacotes sejam encaminhados para a interface switch\n",
    "\n",
    "- (isso tem que rodar pelo script ) ...\n",
    "\n",
    "\n",
    "\n",
    "\n",
    "\n"
   ]
  }
 ],
 "metadata": {
  "language_info": {
   "name": "python"
  }
 },
 "nbformat": 4,
 "nbformat_minor": 2
}
