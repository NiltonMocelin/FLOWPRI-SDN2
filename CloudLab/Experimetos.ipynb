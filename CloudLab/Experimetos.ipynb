{
 "cells": [
  {
   "cell_type": "markdown",
   "metadata": {},
   "source": [
    "# How to Experimentos:\n",
    "\n",
    "- configurar o cfg de cada controlador\n",
    "\n",
    "- setar os ips manualmente de cada host"
   ]
  }
 ],
 "metadata": {
  "language_info": {
   "name": "python"
  }
 },
 "nbformat": 4,
 "nbformat_minor": 2
}
